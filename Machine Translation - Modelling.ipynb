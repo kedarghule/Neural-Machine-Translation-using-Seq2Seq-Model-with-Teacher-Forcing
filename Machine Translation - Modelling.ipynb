{
  "nbformat": 4,
  "nbformat_minor": 0,
  "metadata": {
    "colab": {
      "name": "Machine Translation - Modelling.ipynb",
      "provenance": [],
      "collapsed_sections": []
    },
    "kernelspec": {
      "name": "python3",
      "display_name": "Python 3"
    },
    "language_info": {
      "name": "python"
    },
    "accelerator": "GPU"
  },
  "cells": [
    {
      "cell_type": "code",
      "execution_count": 33,
      "metadata": {
        "id": "q5_TRX0DP97P"
      },
      "outputs": [],
      "source": [
        "import tensorflow as tf\n",
        "from keras.models import Model\n",
        "from keras.layers import Input,LSTM,Dense,Embedding\n",
        "from keras.preprocessing.text import Tokenizer\n",
        "from keras.preprocessing.sequence import pad_sequences\n",
        "from tensorflow.keras.utils import to_categorical\n",
        "import numpy as np\n",
        "import pandas as pd\n",
        "import pickle"
      ]
    },
    {
      "cell_type": "code",
      "source": [
        "df = pd.read_csv('/content/drive/MyDrive/Machine Translation/ready_dataset.csv')\n",
        "df = df.iloc[:,1:]\n",
        "df"
      ],
      "metadata": {
        "colab": {
          "base_uri": "https://localhost:8080/",
          "height": 423
        },
        "id": "5jkgBdJoQhr0",
        "outputId": "0e809b28-0505-408b-f174-7cd0a99a392d"
      },
      "execution_count": 34,
      "outputs": [
        {
          "output_type": "execute_result",
          "data": {
            "text/html": [
              "\n",
              "  <div id=\"df-635201bf-6dc7-4ada-863d-b08e3066ff65\">\n",
              "    <div class=\"colab-df-container\">\n",
              "      <div>\n",
              "<style scoped>\n",
              "    .dataframe tbody tr th:only-of-type {\n",
              "        vertical-align: middle;\n",
              "    }\n",
              "\n",
              "    .dataframe tbody tr th {\n",
              "        vertical-align: top;\n",
              "    }\n",
              "\n",
              "    .dataframe thead th {\n",
              "        text-align: right;\n",
              "    }\n",
              "</style>\n",
              "<table border=\"1\" class=\"dataframe\">\n",
              "  <thead>\n",
              "    <tr style=\"text-align: right;\">\n",
              "      <th></th>\n",
              "      <th>English</th>\n",
              "      <th>Spanish</th>\n",
              "    </tr>\n",
              "  </thead>\n",
              "  <tbody>\n",
              "    <tr>\n",
              "      <th>0</th>\n",
              "      <td>go on</td>\n",
              "      <td>Continúa.</td>\n",
              "    </tr>\n",
              "    <tr>\n",
              "      <th>1</th>\n",
              "      <td>go on</td>\n",
              "      <td>Continúe.</td>\n",
              "    </tr>\n",
              "    <tr>\n",
              "      <th>2</th>\n",
              "      <td>hello</td>\n",
              "      <td>Hola.</td>\n",
              "    </tr>\n",
              "    <tr>\n",
              "      <th>3</th>\n",
              "      <td>oh no</td>\n",
              "      <td>¡Oh, no!</td>\n",
              "    </tr>\n",
              "    <tr>\n",
              "      <th>4</th>\n",
              "      <td>relax</td>\n",
              "      <td>Tomátelo con soda.</td>\n",
              "    </tr>\n",
              "    <tr>\n",
              "      <th>...</th>\n",
              "      <td>...</td>\n",
              "      <td>...</td>\n",
              "    </tr>\n",
              "    <tr>\n",
              "      <th>9995</th>\n",
              "      <td>thats house</td>\n",
              "      <td>Esa es nuestra casa.</td>\n",
              "    </tr>\n",
              "    <tr>\n",
              "      <th>9996</th>\n",
              "      <td>thats hotel</td>\n",
              "      <td>Ese es el hotel.</td>\n",
              "    </tr>\n",
              "    <tr>\n",
              "      <th>9997</th>\n",
              "      <td>thats offer</td>\n",
              "      <td>He ahí la oferta.</td>\n",
              "    </tr>\n",
              "    <tr>\n",
              "      <th>9998</th>\n",
              "      <td>thats trouble</td>\n",
              "      <td>Eso es problemático.</td>\n",
              "    </tr>\n",
              "    <tr>\n",
              "      <th>9999</th>\n",
              "      <td>thats true too</td>\n",
              "      <td>Eso también es cierto.</td>\n",
              "    </tr>\n",
              "  </tbody>\n",
              "</table>\n",
              "<p>10000 rows × 2 columns</p>\n",
              "</div>\n",
              "      <button class=\"colab-df-convert\" onclick=\"convertToInteractive('df-635201bf-6dc7-4ada-863d-b08e3066ff65')\"\n",
              "              title=\"Convert this dataframe to an interactive table.\"\n",
              "              style=\"display:none;\">\n",
              "        \n",
              "  <svg xmlns=\"http://www.w3.org/2000/svg\" height=\"24px\"viewBox=\"0 0 24 24\"\n",
              "       width=\"24px\">\n",
              "    <path d=\"M0 0h24v24H0V0z\" fill=\"none\"/>\n",
              "    <path d=\"M18.56 5.44l.94 2.06.94-2.06 2.06-.94-2.06-.94-.94-2.06-.94 2.06-2.06.94zm-11 1L8.5 8.5l.94-2.06 2.06-.94-2.06-.94L8.5 2.5l-.94 2.06-2.06.94zm10 10l.94 2.06.94-2.06 2.06-.94-2.06-.94-.94-2.06-.94 2.06-2.06.94z\"/><path d=\"M17.41 7.96l-1.37-1.37c-.4-.4-.92-.59-1.43-.59-.52 0-1.04.2-1.43.59L10.3 9.45l-7.72 7.72c-.78.78-.78 2.05 0 2.83L4 21.41c.39.39.9.59 1.41.59.51 0 1.02-.2 1.41-.59l7.78-7.78 2.81-2.81c.8-.78.8-2.07 0-2.86zM5.41 20L4 18.59l7.72-7.72 1.47 1.35L5.41 20z\"/>\n",
              "  </svg>\n",
              "      </button>\n",
              "      \n",
              "  <style>\n",
              "    .colab-df-container {\n",
              "      display:flex;\n",
              "      flex-wrap:wrap;\n",
              "      gap: 12px;\n",
              "    }\n",
              "\n",
              "    .colab-df-convert {\n",
              "      background-color: #E8F0FE;\n",
              "      border: none;\n",
              "      border-radius: 50%;\n",
              "      cursor: pointer;\n",
              "      display: none;\n",
              "      fill: #1967D2;\n",
              "      height: 32px;\n",
              "      padding: 0 0 0 0;\n",
              "      width: 32px;\n",
              "    }\n",
              "\n",
              "    .colab-df-convert:hover {\n",
              "      background-color: #E2EBFA;\n",
              "      box-shadow: 0px 1px 2px rgba(60, 64, 67, 0.3), 0px 1px 3px 1px rgba(60, 64, 67, 0.15);\n",
              "      fill: #174EA6;\n",
              "    }\n",
              "\n",
              "    [theme=dark] .colab-df-convert {\n",
              "      background-color: #3B4455;\n",
              "      fill: #D2E3FC;\n",
              "    }\n",
              "\n",
              "    [theme=dark] .colab-df-convert:hover {\n",
              "      background-color: #434B5C;\n",
              "      box-shadow: 0px 1px 3px 1px rgba(0, 0, 0, 0.15);\n",
              "      filter: drop-shadow(0px 1px 2px rgba(0, 0, 0, 0.3));\n",
              "      fill: #FFFFFF;\n",
              "    }\n",
              "  </style>\n",
              "\n",
              "      <script>\n",
              "        const buttonEl =\n",
              "          document.querySelector('#df-635201bf-6dc7-4ada-863d-b08e3066ff65 button.colab-df-convert');\n",
              "        buttonEl.style.display =\n",
              "          google.colab.kernel.accessAllowed ? 'block' : 'none';\n",
              "\n",
              "        async function convertToInteractive(key) {\n",
              "          const element = document.querySelector('#df-635201bf-6dc7-4ada-863d-b08e3066ff65');\n",
              "          const dataTable =\n",
              "            await google.colab.kernel.invokeFunction('convertToInteractive',\n",
              "                                                     [key], {});\n",
              "          if (!dataTable) return;\n",
              "\n",
              "          const docLinkHtml = 'Like what you see? Visit the ' +\n",
              "            '<a target=\"_blank\" href=https://colab.research.google.com/notebooks/data_table.ipynb>data table notebook</a>'\n",
              "            + ' to learn more about interactive tables.';\n",
              "          element.innerHTML = '';\n",
              "          dataTable['output_type'] = 'display_data';\n",
              "          await google.colab.output.renderOutput(dataTable, element);\n",
              "          const docLink = document.createElement('div');\n",
              "          docLink.innerHTML = docLinkHtml;\n",
              "          element.appendChild(docLink);\n",
              "        }\n",
              "      </script>\n",
              "    </div>\n",
              "  </div>\n",
              "  "
            ],
            "text/plain": [
              "             English                 Spanish\n",
              "0              go on               Continúa.\n",
              "1              go on               Continúe.\n",
              "2              hello                   Hola.\n",
              "3              oh no                ¡Oh, no!\n",
              "4              relax      Tomátelo con soda.\n",
              "...              ...                     ...\n",
              "9995     thats house    Esa es nuestra casa.\n",
              "9996     thats hotel        Ese es el hotel.\n",
              "9997     thats offer       He ahí la oferta.\n",
              "9998   thats trouble    Eso es problemático.\n",
              "9999  thats true too  Eso también es cierto.\n",
              "\n",
              "[10000 rows x 2 columns]"
            ]
          },
          "metadata": {},
          "execution_count": 34
        }
      ]
    },
    {
      "cell_type": "code",
      "source": [
        "batch_size=64\n",
        "epochs=40\n",
        "LATENT_DIM=256\n",
        "num_samples=10000\n",
        "MAX_NUM_WORDS=20000\n",
        "EMBEDDING_DIM=100"
      ],
      "metadata": {
        "id": "SFvImH7gQpxP"
      },
      "execution_count": 35,
      "outputs": []
    },
    {
      "cell_type": "code",
      "source": [
        "input_texts=[]\n",
        "target_texts=[]\n",
        "target_input_texts=[]\n",
        "for x in df['English']:\n",
        "  input_texts.append(x)\n",
        "for x in df['Spanish']:\n",
        "  target_texts.append(x+' <eos>')\n",
        "  target_input_texts.append('<sos> '+x)"
      ],
      "metadata": {
        "id": "vHQMRzJERkP1"
      },
      "execution_count": 36,
      "outputs": []
    },
    {
      "cell_type": "code",
      "source": [
        "tokenizer=Tokenizer(num_words=MAX_NUM_WORDS)\n",
        "tokenizer.fit_on_texts(input_texts)\n",
        "input_sequences=tokenizer.texts_to_sequences(input_texts)"
      ],
      "metadata": {
        "id": "HedLc97dUgbT"
      },
      "execution_count": 37,
      "outputs": []
    },
    {
      "cell_type": "code",
      "source": [
        "input_sequences[0]"
      ],
      "metadata": {
        "colab": {
          "base_uri": "https://localhost:8080/"
        },
        "id": "xdT1h36LVe2z",
        "outputId": "45860e35-dd69-4092-8e23-977d84fdcdf7"
      },
      "execution_count": 38,
      "outputs": [
        {
          "output_type": "execute_result",
          "data": {
            "text/plain": [
              "[4, 56]"
            ]
          },
          "metadata": {},
          "execution_count": 38
        }
      ]
    },
    {
      "cell_type": "code",
      "source": [
        "input_texts[0]"
      ],
      "metadata": {
        "colab": {
          "base_uri": "https://localhost:8080/",
          "height": 35
        },
        "id": "vfdTm2GYVjE6",
        "outputId": "81e408b0-85e2-4c8a-e214-bd72c32c28d8"
      },
      "execution_count": 39,
      "outputs": [
        {
          "output_type": "execute_result",
          "data": {
            "application/vnd.google.colaboratory.intrinsic+json": {
              "type": "string"
            },
            "text/plain": [
              "'go on'"
            ]
          },
          "metadata": {},
          "execution_count": 39
        }
      ]
    },
    {
      "cell_type": "code",
      "source": [
        "#get the word to index mapping for input language\n",
        "word2idx_input=tokenizer.word_index\n",
        "print('found %s number of unique words'% len(word2idx_input))"
      ],
      "metadata": {
        "colab": {
          "base_uri": "https://localhost:8080/"
        },
        "id": "uuhX7boaVnEI",
        "outputId": "8f9a775a-c2ed-442d-def9-e3792b093738"
      },
      "execution_count": 40,
      "outputs": [
        {
          "output_type": "stream",
          "name": "stdout",
          "text": [
            "found 2009 number of unique words\n"
          ]
        }
      ]
    },
    {
      "cell_type": "code",
      "source": [
        "file_to_write = open('/content/drive/MyDrive/Machine Translation/word2idx_input.pickle', \"wb\")\n",
        "pickle.dump(word2idx_input, file_to_write)"
      ],
      "metadata": {
        "id": "PKHy0PXBRz5I"
      },
      "execution_count": 41,
      "outputs": []
    },
    {
      "cell_type": "code",
      "source": [
        "filename = open(r'/content/drive/MyDrive/Machine Translation/word2idx_input.pickle', 'rb')\n",
        "word2idx_input=pickle.load(filename)"
      ],
      "metadata": {
        "id": "9340BfuNSR0h"
      },
      "execution_count": 42,
      "outputs": []
    },
    {
      "cell_type": "code",
      "source": [
        ""
      ],
      "metadata": {
        "id": "fwafu5yKSwR3"
      },
      "execution_count": null,
      "outputs": []
    },
    {
      "cell_type": "code",
      "source": [
        "#maximum input length sequence\n",
        "max_len_input=max(len(s) for s in input_sequences)"
      ],
      "metadata": {
        "id": "LLXnxrjdVukt"
      },
      "execution_count": 43,
      "outputs": []
    },
    {
      "cell_type": "code",
      "source": [
        "max_len_input"
      ],
      "metadata": {
        "colab": {
          "base_uri": "https://localhost:8080/"
        },
        "id": "0ecDjaQkVzww",
        "outputId": "28a6b79a-ebc5-4353-e2a5-fa6687b13de3"
      },
      "execution_count": 44,
      "outputs": [
        {
          "output_type": "execute_result",
          "data": {
            "text/plain": [
              "4"
            ]
          },
          "metadata": {},
          "execution_count": 44
        }
      ]
    },
    {
      "cell_type": "code",
      "source": [
        "#tokenize the outputs \n",
        "#dont filter the special characters\n",
        "#otherwise <sos> and <eos> wont appear\n",
        "tokenizer_o=Tokenizer(num_words=MAX_NUM_WORDS,filters='')\n",
        "tokenizer_o.fit_on_texts(target_texts+target_input_texts)\n",
        "target_sequences=tokenizer_o.texts_to_sequences(target_texts)\n",
        "target_sequences_inputs=tokenizer_o.texts_to_sequences(target_input_texts)"
      ],
      "metadata": {
        "id": "sCwNMq5qV4kg"
      },
      "execution_count": 45,
      "outputs": []
    },
    {
      "cell_type": "code",
      "source": [
        "target_sequences_inputs[0]"
      ],
      "metadata": {
        "colab": {
          "base_uri": "https://localhost:8080/"
        },
        "id": "SLyfU2IsWWJe",
        "outputId": "26a49032-3b15-46fb-c1c2-3a7361be6f49"
      },
      "execution_count": 46,
      "outputs": [
        {
          "output_type": "execute_result",
          "data": {
            "text/plain": [
              "[2, 646]"
            ]
          },
          "metadata": {},
          "execution_count": 46
        }
      ]
    },
    {
      "cell_type": "code",
      "source": [
        "target_sequences[0]"
      ],
      "metadata": {
        "colab": {
          "base_uri": "https://localhost:8080/"
        },
        "id": "6FilqgAFWj8h",
        "outputId": "b626c518-9acf-49dd-f971-f2ed04d66da4"
      },
      "execution_count": 47,
      "outputs": [
        {
          "output_type": "execute_result",
          "data": {
            "text/plain": [
              "[646, 1]"
            ]
          },
          "metadata": {},
          "execution_count": 47
        }
      ]
    },
    {
      "cell_type": "code",
      "source": [
        "target_texts[0]"
      ],
      "metadata": {
        "colab": {
          "base_uri": "https://localhost:8080/",
          "height": 35
        },
        "id": "r6Ob4iLDWl7e",
        "outputId": "a6513d05-7c87-4406-8175-ebf3b71a0089"
      },
      "execution_count": 48,
      "outputs": [
        {
          "output_type": "execute_result",
          "data": {
            "application/vnd.google.colaboratory.intrinsic+json": {
              "type": "string"
            },
            "text/plain": [
              "'Continúa. <eos>'"
            ]
          },
          "metadata": {},
          "execution_count": 48
        }
      ]
    },
    {
      "cell_type": "code",
      "source": [
        "target_input_texts[0]"
      ],
      "metadata": {
        "colab": {
          "base_uri": "https://localhost:8080/",
          "height": 35
        },
        "id": "w9AHmN11WqZF",
        "outputId": "dcf78f0d-0057-4677-b397-a3f63b9f8678"
      },
      "execution_count": 49,
      "outputs": [
        {
          "output_type": "execute_result",
          "data": {
            "application/vnd.google.colaboratory.intrinsic+json": {
              "type": "string"
            },
            "text/plain": [
              "'<sos> Continúa.'"
            ]
          },
          "metadata": {},
          "execution_count": 49
        }
      ]
    },
    {
      "cell_type": "code",
      "source": [
        "#get the word mapping for output language \n",
        "word2idx_outputs=tokenizer_o.word_index\n",
        "print('found %s unique o/p tokens:'% len(word2idx_outputs))"
      ],
      "metadata": {
        "colab": {
          "base_uri": "https://localhost:8080/"
        },
        "id": "DsgTaOtEWuxO",
        "outputId": "7e777e1a-d2f4-425a-e638-a09a0f747f45"
      },
      "execution_count": 50,
      "outputs": [
        {
          "output_type": "stream",
          "name": "stdout",
          "text": [
            "found 6492 unique o/p tokens:\n"
          ]
        }
      ]
    },
    {
      "cell_type": "code",
      "source": [
        "file_to_write = open('/content/drive/MyDrive/Machine Translation/word2idx_output.pickle', \"wb\")\n",
        "pickle.dump(word2idx_outputs, file_to_write)"
      ],
      "metadata": {
        "id": "DkrV_WLES_s6"
      },
      "execution_count": 51,
      "outputs": []
    },
    {
      "cell_type": "code",
      "source": [
        "num_words_output=len(word2idx_outputs)+1"
      ],
      "metadata": {
        "id": "g9wbMAtKWz4o"
      },
      "execution_count": 52,
      "outputs": []
    },
    {
      "cell_type": "code",
      "source": [
        "max_len_target=max(len(s) for s in target_sequences)\n",
        "max_len_target"
      ],
      "metadata": {
        "colab": {
          "base_uri": "https://localhost:8080/"
        },
        "id": "ibhZXjazW2J-",
        "outputId": "e1c64ef5-2e0e-4a0d-ddf0-3d0e1cf902b8"
      },
      "execution_count": 53,
      "outputs": [
        {
          "output_type": "execute_result",
          "data": {
            "text/plain": [
              "9"
            ]
          },
          "metadata": {},
          "execution_count": 53
        }
      ]
    },
    {
      "cell_type": "code",
      "source": [
        "#pad sequences\n",
        "encoder_inputs=pad_sequences(input_sequences,maxlen=max_len_input,padding='post')\n",
        "print(\"encoder_inputs.shape:\", encoder_inputs.shape)\n",
        "print(\"encoder_inputs[0]:\", encoder_inputs[0])"
      ],
      "metadata": {
        "colab": {
          "base_uri": "https://localhost:8080/"
        },
        "id": "raQq9HgUW4eA",
        "outputId": "c4883e43-7b54-4c0b-ebf7-b68284df3774"
      },
      "execution_count": 54,
      "outputs": [
        {
          "output_type": "stream",
          "name": "stdout",
          "text": [
            "encoder_inputs.shape: (10000, 4)\n",
            "encoder_inputs[0]: [ 4 56  0  0]\n"
          ]
        }
      ]
    },
    {
      "cell_type": "code",
      "source": [
        "decoder_inputs=pad_sequences(target_sequences_inputs,maxlen=max_len_target,padding='post')\n",
        "print(\"decoder_inputs[0]:\", decoder_inputs[0])\n",
        "print(\"decoder_inputs.shape:\", decoder_inputs.shape)"
      ],
      "metadata": {
        "colab": {
          "base_uri": "https://localhost:8080/"
        },
        "id": "pZfTScvJW-vn",
        "outputId": "484e58d9-48aa-4f08-be9f-09c7e62dfc55"
      },
      "execution_count": 55,
      "outputs": [
        {
          "output_type": "stream",
          "name": "stdout",
          "text": [
            "decoder_inputs[0]: [  2 646   0   0   0   0   0   0   0]\n",
            "decoder_inputs.shape: (10000, 9)\n"
          ]
        }
      ]
    },
    {
      "cell_type": "code",
      "source": [
        "decoder_targets=pad_sequences(target_sequences,maxlen=max_len_target,padding='post')"
      ],
      "metadata": {
        "id": "koy7x8DfXF5D"
      },
      "execution_count": 56,
      "outputs": []
    },
    {
      "cell_type": "code",
      "source": [
        "!wget http://nlp.stanford.edu/data/glove.6B.zip"
      ],
      "metadata": {
        "id": "hNOcTdGuXM3z",
        "colab": {
          "base_uri": "https://localhost:8080/"
        },
        "outputId": "5235d688-70ed-4f1f-8078-5287eb82a145"
      },
      "execution_count": 58,
      "outputs": [
        {
          "output_type": "stream",
          "name": "stdout",
          "text": [
            "--2022-01-12 18:48:20--  http://nlp.stanford.edu/data/glove.6B.zip\n",
            "Resolving nlp.stanford.edu (nlp.stanford.edu)... 171.64.67.140\n",
            "Connecting to nlp.stanford.edu (nlp.stanford.edu)|171.64.67.140|:80... connected.\n",
            "HTTP request sent, awaiting response... 302 Found\n",
            "Location: https://nlp.stanford.edu/data/glove.6B.zip [following]\n",
            "--2022-01-12 18:48:20--  https://nlp.stanford.edu/data/glove.6B.zip\n",
            "Connecting to nlp.stanford.edu (nlp.stanford.edu)|171.64.67.140|:443... connected.\n",
            "HTTP request sent, awaiting response... 301 Moved Permanently\n",
            "Location: http://downloads.cs.stanford.edu/nlp/data/glove.6B.zip [following]\n",
            "--2022-01-12 18:48:20--  http://downloads.cs.stanford.edu/nlp/data/glove.6B.zip\n",
            "Resolving downloads.cs.stanford.edu (downloads.cs.stanford.edu)... 171.64.64.22\n",
            "Connecting to downloads.cs.stanford.edu (downloads.cs.stanford.edu)|171.64.64.22|:80... connected.\n",
            "HTTP request sent, awaiting response... 200 OK\n",
            "Length: 862182613 (822M) [application/zip]\n",
            "Saving to: ‘glove.6B.zip’\n",
            "\n",
            "glove.6B.zip        100%[===================>] 822.24M  5.10MB/s    in 2m 40s  \n",
            "\n",
            "2022-01-12 18:51:00 (5.13 MB/s) - ‘glove.6B.zip’ saved [862182613/862182613]\n",
            "\n"
          ]
        }
      ]
    },
    {
      "cell_type": "code",
      "source": [
        "!unzip 'glove.6B.zip'"
      ],
      "metadata": {
        "id": "TFAuBx8nXaTK",
        "colab": {
          "base_uri": "https://localhost:8080/"
        },
        "outputId": "460ffd8b-ed12-4ab4-b1f0-1506fcafd7ae"
      },
      "execution_count": 59,
      "outputs": [
        {
          "output_type": "stream",
          "name": "stdout",
          "text": [
            "Archive:  glove.6B.zip\n",
            "  inflating: glove.6B.50d.txt        \n",
            "  inflating: glove.6B.100d.txt       \n",
            "  inflating: glove.6B.200d.txt       \n",
            "  inflating: glove.6B.300d.txt       \n"
          ]
        }
      ]
    },
    {
      "cell_type": "code",
      "source": [
        "import shutil\n",
        "shutil.copy('/content/glove.6B.100d.txt','/content/drive/MyDrive/Machine Translation')"
      ],
      "metadata": {
        "id": "Mn0RARbtYOTL",
        "colab": {
          "base_uri": "https://localhost:8080/",
          "height": 35
        },
        "outputId": "d5b93d45-9b8d-4939-8da6-3da52fca075f"
      },
      "execution_count": 60,
      "outputs": [
        {
          "output_type": "execute_result",
          "data": {
            "application/vnd.google.colaboratory.intrinsic+json": {
              "type": "string"
            },
            "text/plain": [
              "'/content/drive/MyDrive/Machine Translation/glove.6B.100d.txt'"
            ]
          },
          "metadata": {},
          "execution_count": 60
        }
      ]
    },
    {
      "cell_type": "code",
      "source": [
        "print('Loading word vectors...')\n",
        "word2vec = {}\n",
        "with open(r'/content/drive/MyDrive/Machine Translation/glove.6B.100d.txt',encoding='utf-8') as f:\n",
        "  # is just a space-separated text file in the format:\n",
        "  # word vec[0] vec[1] vec[2] ...\n",
        "  for line in f:\n",
        "    values = line.split()\n",
        "    word = values[0]\n",
        "    vec = np.asarray(values[1:], dtype='float32')\n",
        "    word2vec[word] = vec\n",
        "print('Found %s word vectors.' % len(word2vec))"
      ],
      "metadata": {
        "colab": {
          "base_uri": "https://localhost:8080/"
        },
        "id": "W6mN7mTJYjcR",
        "outputId": "6345ab82-c68a-4bc9-8266-e95c79cead91"
      },
      "execution_count": 61,
      "outputs": [
        {
          "output_type": "stream",
          "name": "stdout",
          "text": [
            "Loading word vectors...\n",
            "Found 400000 word vectors.\n"
          ]
        }
      ]
    },
    {
      "cell_type": "code",
      "source": [
        "file_to_write = open('/content/drive/MyDrive/Machine Translation/word2vec.pickle', \"wb\")\n",
        "pickle.dump(word2vec, file_to_write)"
      ],
      "metadata": {
        "id": "9LRV-f42TQVS"
      },
      "execution_count": 62,
      "outputs": []
    },
    {
      "cell_type": "code",
      "source": [
        "# |word2vec['the']"
      ],
      "metadata": {
        "id": "AP2ltZHEYxJE"
      },
      "execution_count": 63,
      "outputs": []
    },
    {
      "cell_type": "code",
      "source": [
        ""
      ],
      "metadata": {
        "id": "7jDklzy2TLDq"
      },
      "execution_count": 63,
      "outputs": []
    },
    {
      "cell_type": "code",
      "source": [
        "#prepare embedding matrix\n",
        "num_words=min(MAX_NUM_WORDS,len(word2idx_input)+1)\n",
        "embedding_matrix=np.zeros((num_words,EMBEDDING_DIM))\n",
        "for word,i in word2idx_input.items():\n",
        "    if i<MAX_NUM_WORDS:\n",
        "        embedding_vector=word2vec.get(word)\n",
        "    if embedding_vector is not None:\n",
        "        embedding_matrix[i]=embedding_vector\n",
        "        "
      ],
      "metadata": {
        "id": "hyC8UsaIZels"
      },
      "execution_count": 64,
      "outputs": []
    },
    {
      "cell_type": "code",
      "source": [
        "embedding_layer=Embedding(num_words,EMBEDDING_DIM,weights=[embedding_matrix],input_length=max_len_input)"
      ],
      "metadata": {
        "id": "vRv_nA4hZmLk"
      },
      "execution_count": 65,
      "outputs": []
    },
    {
      "cell_type": "code",
      "source": [
        "decoder_target_one_hot=np.zeros((len(input_texts),max_len_target,num_words_output),dtype='float32')"
      ],
      "metadata": {
        "id": "2Fm9fqjda0Vl"
      },
      "execution_count": 66,
      "outputs": []
    },
    {
      "cell_type": "code",
      "source": [
        "decoder_target_one_hot[0]"
      ],
      "metadata": {
        "colab": {
          "base_uri": "https://localhost:8080/"
        },
        "id": "U7jiAQu9bDTz",
        "outputId": "7003d10c-4c3a-4042-a728-85153488e0c8"
      },
      "execution_count": 67,
      "outputs": [
        {
          "output_type": "execute_result",
          "data": {
            "text/plain": [
              "array([[0., 0., 0., ..., 0., 0., 0.],\n",
              "       [0., 0., 0., ..., 0., 0., 0.],\n",
              "       [0., 0., 0., ..., 0., 0., 0.],\n",
              "       ...,\n",
              "       [0., 0., 0., ..., 0., 0., 0.],\n",
              "       [0., 0., 0., ..., 0., 0., 0.],\n",
              "       [0., 0., 0., ..., 0., 0., 0.]], dtype=float32)"
            ]
          },
          "metadata": {},
          "execution_count": 67
        }
      ]
    },
    {
      "cell_type": "code",
      "source": [
        "decoder_target_one_hot.shape"
      ],
      "metadata": {
        "colab": {
          "base_uri": "https://localhost:8080/"
        },
        "id": "1a7lW2mYbGZi",
        "outputId": "096777cf-e8d3-4cc6-b3fe-4383f9ed6c43"
      },
      "execution_count": 68,
      "outputs": [
        {
          "output_type": "execute_result",
          "data": {
            "text/plain": [
              "(10000, 9, 6493)"
            ]
          },
          "metadata": {},
          "execution_count": 68
        }
      ]
    },
    {
      "cell_type": "code",
      "source": [
        "#assign values\n",
        "for i,d in enumerate(decoder_targets):\n",
        "    for t, word in enumerate(d):\n",
        "        decoder_target_one_hot[i,t,word]=1"
      ],
      "metadata": {
        "id": "TrgaR-4jbJfl"
      },
      "execution_count": 69,
      "outputs": []
    },
    {
      "cell_type": "code",
      "source": [
        "decoder_target_one_hot[0]"
      ],
      "metadata": {
        "colab": {
          "base_uri": "https://localhost:8080/"
        },
        "id": "CTfinYKkbQo0",
        "outputId": "0a45510d-f878-4f0f-a111-597f9df36cb7"
      },
      "execution_count": 70,
      "outputs": [
        {
          "output_type": "execute_result",
          "data": {
            "text/plain": [
              "array([[0., 0., 0., ..., 0., 0., 0.],\n",
              "       [0., 1., 0., ..., 0., 0., 0.],\n",
              "       [1., 0., 0., ..., 0., 0., 0.],\n",
              "       ...,\n",
              "       [1., 0., 0., ..., 0., 0., 0.],\n",
              "       [1., 0., 0., ..., 0., 0., 0.],\n",
              "       [1., 0., 0., ..., 0., 0., 0.]], dtype=float32)"
            ]
          },
          "metadata": {},
          "execution_count": 70
        }
      ]
    },
    {
      "cell_type": "code",
      "source": [
        "decoder_targets[0]"
      ],
      "metadata": {
        "colab": {
          "base_uri": "https://localhost:8080/"
        },
        "id": "QsVuAfLWbTOY",
        "outputId": "2d3f90ba-9b7c-4026-ee86-21d1cd30aa20"
      },
      "execution_count": 71,
      "outputs": [
        {
          "output_type": "execute_result",
          "data": {
            "text/plain": [
              "array([646,   1,   0,   0,   0,   0,   0,   0,   0], dtype=int32)"
            ]
          },
          "metadata": {},
          "execution_count": 71
        }
      ]
    },
    {
      "cell_type": "code",
      "source": [
        "#building the model\n",
        "encoder_inputs_placeholder=Input(shape=(max_len_input,))\n",
        "x=embedding_layer(encoder_inputs_placeholder)\n",
        "encoder=LSTM(LATENT_DIM,return_state=True)\n",
        "encoder_outputs,state_h,state_c=encoder(x)"
      ],
      "metadata": {
        "id": "sKkSQAWwbkmM"
      },
      "execution_count": 72,
      "outputs": []
    },
    {
      "cell_type": "code",
      "source": [
        "decoder_inputs_placeholder=Input(shape=(max_len_target,))"
      ],
      "metadata": {
        "id": "mkMokn6icbAi"
      },
      "execution_count": 73,
      "outputs": []
    },
    {
      "cell_type": "code",
      "source": [
        "#keep only the states to pass into decoder\n",
        "encoder_states=[state_h,state_c] "
      ],
      "metadata": {
        "id": "Fdz1FeiZddZY"
      },
      "execution_count": 74,
      "outputs": []
    },
    {
      "cell_type": "code",
      "source": [
        "#since the decoder is a 'to-many' model we want to have \n",
        "#return_sequences = true\n",
        "\n",
        "decoder_lstm=LSTM(LATENT_DIM,return_sequences=True,return_state=True)"
      ],
      "metadata": {
        "id": "lu0-FQFcdiSK"
      },
      "execution_count": 75,
      "outputs": []
    },
    {
      "cell_type": "code",
      "source": [
        "decoder_embedding=Embedding(num_words_output,LATENT_DIM)\n",
        "decoder_inputs_x=decoder_embedding(decoder_inputs_placeholder)\n",
        "decoder_outputs, _, _ = decoder_lstm(\n",
        "  decoder_inputs_x,\n",
        "  initial_state=encoder_states\n",
        ")"
      ],
      "metadata": {
        "id": "8_0oMT2yd7Tz"
      },
      "execution_count": 76,
      "outputs": []
    },
    {
      "cell_type": "code",
      "source": [
        "decoder_dense=Dense(num_words_output,activation='softmax')\n",
        "decoder_outputs=decoder_dense(decoder_outputs)"
      ],
      "metadata": {
        "id": "ksFG5AZTebJO"
      },
      "execution_count": 77,
      "outputs": []
    },
    {
      "cell_type": "code",
      "source": [
        "model=Model([encoder_inputs_placeholder,decoder_inputs_placeholder],decoder_outputs)"
      ],
      "metadata": {
        "id": "sOWF0PpOezuJ"
      },
      "execution_count": 78,
      "outputs": []
    },
    {
      "cell_type": "code",
      "source": [
        "model.compile(loss='categorical_crossentropy',optimizer='adam',metrics=['accuracy'])"
      ],
      "metadata": {
        "id": "Zv2bXAqhe3N_"
      },
      "execution_count": 79,
      "outputs": []
    },
    {
      "cell_type": "code",
      "source": [
        "r=model.fit([encoder_inputs,decoder_inputs],decoder_target_one_hot,batch_size=128,epochs=10,validation_split=0.2)"
      ],
      "metadata": {
        "colab": {
          "base_uri": "https://localhost:8080/"
        },
        "id": "r_nHtEMUe6bh",
        "outputId": "5704bb7a-d5ed-4e3f-afec-4aab5f7e9224"
      },
      "execution_count": 80,
      "outputs": [
        {
          "output_type": "stream",
          "name": "stdout",
          "text": [
            "Epoch 1/10\n",
            "63/63 [==============================] - 12s 75ms/step - loss: 3.9324 - accuracy: 0.5648 - val_loss: 3.2222 - val_accuracy: 0.5346\n",
            "Epoch 2/10\n",
            "63/63 [==============================] - 3s 48ms/step - loss: 2.4931 - accuracy: 0.6473 - val_loss: 2.9635 - val_accuracy: 0.6039\n",
            "Epoch 3/10\n",
            "63/63 [==============================] - 3s 48ms/step - loss: 2.2616 - accuracy: 0.6898 - val_loss: 2.8448 - val_accuracy: 0.6221\n",
            "Epoch 4/10\n",
            "63/63 [==============================] - 3s 48ms/step - loss: 2.1369 - accuracy: 0.6948 - val_loss: 2.7608 - val_accuracy: 0.6265\n",
            "Epoch 5/10\n",
            "63/63 [==============================] - 3s 53ms/step - loss: 2.0434 - accuracy: 0.7006 - val_loss: 2.7082 - val_accuracy: 0.6345\n",
            "Epoch 6/10\n",
            "63/63 [==============================] - 3s 48ms/step - loss: 1.9619 - accuracy: 0.7099 - val_loss: 2.6723 - val_accuracy: 0.6436\n",
            "Epoch 7/10\n",
            "63/63 [==============================] - 3s 48ms/step - loss: 1.8914 - accuracy: 0.7173 - val_loss: 2.6398 - val_accuracy: 0.6477\n",
            "Epoch 8/10\n",
            "63/63 [==============================] - 3s 48ms/step - loss: 1.8307 - accuracy: 0.7219 - val_loss: 2.6202 - val_accuracy: 0.6516\n",
            "Epoch 9/10\n",
            "63/63 [==============================] - 3s 48ms/step - loss: 1.7749 - accuracy: 0.7283 - val_loss: 2.5959 - val_accuracy: 0.6539\n",
            "Epoch 10/10\n",
            "63/63 [==============================] - 3s 48ms/step - loss: 1.7181 - accuracy: 0.7312 - val_loss: 2.5810 - val_accuracy: 0.6592\n"
          ]
        }
      ]
    },
    {
      "cell_type": "code",
      "source": [
        "#plot some datab\n",
        "%matplotlib inline\n",
        "\n",
        "import matplotlib.pyplot as plt\n",
        "plt.plot(r.history['loss'],label='loss')\n",
        "plt.plot(r.history['val_loss'],label='val_loss')\n",
        "plt.legend()\n",
        "plt.show()"
      ],
      "metadata": {
        "colab": {
          "base_uri": "https://localhost:8080/",
          "height": 265
        },
        "id": "ZPUsjDZbe84I",
        "outputId": "116d388c-c783-49d6-a323-4ade457a1d61"
      },
      "execution_count": 81,
      "outputs": [
        {
          "output_type": "display_data",
          "data": {
            "image/png": "[encoded data removed]",
            "text/plain": [
              "<Figure size 432x288 with 1 Axes>"
            ]
          },
          "metadata": {
            "needs_background": "light"
          }
        }
      ]
    },
    {
      "cell_type": "code",
      "source": [
        "model.save('/content/drive/MyDrive/Machine Translation/s2s.h5')\n"
      ],
      "metadata": {
        "id": "ZS6Kt7ngfMBT"
      },
      "execution_count": 82,
      "outputs": []
    },
    {
      "cell_type": "code",
      "source": [
        "encoder_model=Model(encoder_inputs_placeholder,encoder_states)"
      ],
      "metadata": {
        "id": "KfTAlA8LfQwX"
      },
      "execution_count": 83,
      "outputs": []
    },
    {
      "cell_type": "code",
      "source": [
        "decoder_state_input_h=Input(shape=(LATENT_DIM,))\n",
        "decoder_state_input_c=Input(shape=(LATENT_DIM,))\n",
        "decoder_states_inputs = [decoder_state_input_h, decoder_state_input_c]"
      ],
      "metadata": {
        "id": "F75PkaEE2LAV"
      },
      "execution_count": 84,
      "outputs": []
    },
    {
      "cell_type": "code",
      "source": [
        "decoder_inputs_single=Input(shape=(1,)) #generating one word at a time\n",
        "decoder_inputs_single_x=decoder_embedding(decoder_inputs_single)"
      ],
      "metadata": {
        "id": "9JEwxUEn2M0o"
      },
      "execution_count": 85,
      "outputs": []
    },
    {
      "cell_type": "code",
      "source": [
        "#this time we want to keep the states too, to be output\n",
        "#by our sampling model\n",
        "decoder_outputs,h,c=decoder_lstm(decoder_inputs_single_x,initial_state=decoder_states_inputs)"
      ],
      "metadata": {
        "id": "1v5QZIWW2P-o"
      },
      "execution_count": 86,
      "outputs": []
    },
    {
      "cell_type": "code",
      "source": [
        "decoder_states=[h,c]"
      ],
      "metadata": {
        "id": "B3BXOT1Z2Rwp"
      },
      "execution_count": 87,
      "outputs": []
    },
    {
      "cell_type": "code",
      "source": [
        "#the sampling model\n",
        "#inputs=y(t-1),h(t-1),c(t-1)\n",
        "#outputs=y(t),h(t),c(t)\n",
        "decoder_model=Model([decoder_inputs_single]+decoder_states_inputs,[decoder_outputs]+decoder_states)"
      ],
      "metadata": {
        "id": "PwNHzM4G2Td6"
      },
      "execution_count": 88,
      "outputs": []
    },
    {
      "cell_type": "code",
      "source": [
        "#map index back to real words\n",
        "#so wecan view the results\n",
        "\n",
        "idx2word_en={v:k for k,v in word2idx_input.items()}\n",
        "idx2word_spa={v:k for k,v in word2idx_outputs.items() }\n",
        "\n",
        "\n"
      ],
      "metadata": {
        "id": "in17I94p2VTC"
      },
      "execution_count": 89,
      "outputs": []
    },
    {
      "cell_type": "code",
      "source": [
        "file_to_write = open('/content/drive/MyDrive/Machine Translation/idx2word_en.pickle', \"wb\")\n",
        "pickle.dump(idx2word_en, file_to_write)"
      ],
      "metadata": {
        "id": "TTtsktanTbG7"
      },
      "execution_count": 90,
      "outputs": []
    },
    {
      "cell_type": "code",
      "source": [
        "file_to_write = open('/content/drive/MyDrive/Machine Translation/idx2word_spa.pickle', \"wb\")\n",
        "pickle.dump(idx2word_spa, file_to_write)"
      ],
      "metadata": {
        "id": "SnHpL3PlTnPA"
      },
      "execution_count": 91,
      "outputs": []
    },
    {
      "cell_type": "code",
      "source": [
        "def decode_sequence(input_seq):\n",
        "    #encode the input as state vectors\n",
        "    state_value=encoder_model.predict(input_seq)\n",
        "    #generate empty target sequence of length 1 time step 1\n",
        "    target_seq=np.zeros((1,1))\n",
        "#populate the first character of target sequence with start ch.\n",
        "    target_seq[0,0]=word2idx_outputs['<sos>']\n",
        "    \n",
        "    #if we get this we break\n",
        "    eos = word2idx_outputs['<eos>']\n",
        "    \n",
        "    #create translation\n",
        "    output_sentence=[]\n",
        "    for _ in range(max_len_target):\n",
        "        output_tokens,h,c=decoder_model.predict([target_seq]+state_value)\n",
        "        \n",
        "        #get next word\n",
        "        idx=np.argmax(output_tokens[0,0,:])\n",
        "        \n",
        "        if eos==idx:\n",
        "            break\n",
        "        \n",
        "        word=''\n",
        "        if idx>0:\n",
        "            word=idx2word_spa[idx]\n",
        "            output_sentence.append(word)\n",
        "            \n",
        "            #update the decoder input\n",
        "            #which is just the word generated\n",
        "            \n",
        "            target_seq[0,0]=idx\n",
        "            \n",
        "            #update states\n",
        "            state_value=[h,c]\n",
        "            \n",
        "        return ' '.join(output_sentence)"
      ],
      "metadata": {
        "id": "GVSeQkkG2Xll"
      },
      "execution_count": 92,
      "outputs": []
    },
    {
      "cell_type": "code",
      "source": [
        "while True:\n",
        "    #do some translations\n",
        "    i=np.random.choice(len(input_texts))\n",
        "    \n",
        "    input_seq=encoder_inputs[i:i+1]\n",
        "    translation=decode_sequence(input_seq)\n",
        "    print('-')\n",
        "    print('Input:',input_texts[i])\n",
        "    print('translation:',translation)\n",
        "    \n",
        "    ans=input('continue? [y/n]')\n",
        "    if ans and ans.lower().startswith('n'):\n",
        "        break\n",
        "    "
      ],
      "metadata": {
        "colab": {
          "base_uri": "https://localhost:8080/"
        },
        "id": "kFlvuoHl2aRX",
        "outputId": "daf797ae-2489-41bd-9803-e4416dec6e24"
      },
      "execution_count": 93,
      "outputs": [
        {
          "name": "stdout",
          "output_type": "stream",
          "text": [
            "-\n",
            "Input: thats gimmick\n",
            "translation: sos\n",
            "continue? [y/n]y\n",
            "-\n",
            "Input: make that\n",
            "translation: bien\n",
            "continue? [y/n]y\n",
            "-\n",
            "Input: want more\n",
            "translation: ir\n",
            "continue? [y/n]y\n",
            "-\n",
            "Input: yours\n",
            "translation: sos\n",
            "continue? [y/n]y\n",
            "-\n",
            "Input: let cat in\n",
            "translation: ir\n",
            "continue? [y/n]y\n",
            "-\n",
            "Input: go meet tom\n",
            "translation: ¿qué\n",
            "continue? [y/n]y\n",
            "-\n",
            "Input: im still alive\n",
            "translation: sos\n",
            "continue? [y/n]n\n"
          ]
        }
      ]
    },
    {
      "cell_type": "code",
      "source": [
        "i=np.random.choice(len(input_texts))\n",
        "input_seq=encoder_inputs[i:i+1]\n",
        "translation=decode_sequence(input_seq)\n",
        "translation"
      ],
      "metadata": {
        "id": "UCx9l9ag2dHD",
        "colab": {
          "base_uri": "https://localhost:8080/",
          "height": 35
        },
        "outputId": "7053754d-fac3-4416-ad12-2cb9dedb425c"
      },
      "execution_count": 94,
      "outputs": [
        {
          "output_type": "execute_result",
          "data": {
            "application/vnd.google.colaboratory.intrinsic+json": {
              "type": "string"
            },
            "text/plain": [
              "'bien'"
            ]
          },
          "metadata": {},
          "execution_count": 94
        }
      ]
    },
    {
      "cell_type": "code",
      "source": [
        "tokenizer.fit_on_texts(input_texts)\n",
        "input_sequences=tokenizer.texts_to_sequences(input_texts)"
      ],
      "metadata": {
        "id": "3EaICEfXPT6l"
      },
      "execution_count": 95,
      "outputs": []
    },
    {
      "cell_type": "code",
      "source": [
        "sentence = \"Gold\"\n",
        "tokenizer.fit_on_texts([sentence])\n"
      ],
      "metadata": {
        "id": "Yl3Xp68IP4cO"
      },
      "execution_count": 114,
      "outputs": []
    },
    {
      "cell_type": "code",
      "source": [
        "input_sequences=tokenizer.texts_to_sequences([sentence])"
      ],
      "metadata": {
        "id": "48U5vQUHQBoY"
      },
      "execution_count": 115,
      "outputs": []
    },
    {
      "cell_type": "code",
      "source": [
        "input_sequences"
      ],
      "metadata": {
        "colab": {
          "base_uri": "https://localhost:8080/"
        },
        "id": "_bk6AEchQE2P",
        "outputId": "79fba2ae-6b19-447c-e295-fdba83757cee"
      },
      "execution_count": 116,
      "outputs": [
        {
          "output_type": "execute_result",
          "data": {
            "text/plain": [
              "[[2010]]"
            ]
          },
          "metadata": {},
          "execution_count": 116
        }
      ]
    },
    {
      "cell_type": "code",
      "source": [
        "encoder_inputs=pad_sequences(input_sequences,maxlen=max_len_input,padding='post')"
      ],
      "metadata": {
        "id": "BuNbnsVSQGK-"
      },
      "execution_count": 117,
      "outputs": []
    },
    {
      "cell_type": "code",
      "source": [
        "translation=decode_sequence(encoder_inputs)"
      ],
      "metadata": {
        "id": "HZoMskGuQYIq"
      },
      "execution_count": 118,
      "outputs": []
    },
    {
      "cell_type": "code",
      "source": [
        "translation"
      ],
      "metadata": {
        "colab": {
          "base_uri": "https://localhost:8080/",
          "height": 35
        },
        "id": "496epeQpQcMM",
        "outputId": "f0727a42-b329-45a5-b19c-7808db0f9f1a"
      },
      "execution_count": 119,
      "outputs": [
        {
          "output_type": "execute_result",
          "data": {
            "application/vnd.google.colaboratory.intrinsic+json": {
              "type": "string"
            },
            "text/plain": [
              "'dinero.'"
            ]
          },
          "metadata": {},
          "execution_count": 119
        }
      ]
    },
    {
      "cell_type": "code",
      "source": [
        ""
      ],
      "metadata": {
        "id": "mjPdUV2AQdgK"
      },
      "execution_count": null,
      "outputs": []
    }
  ]
}